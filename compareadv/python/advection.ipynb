{
 "cells": [
  {
   "cell_type": "markdown",
   "metadata": {},
   "source": [
    "#  Linear advection equation\n",
    "\n",
    "Solves\n",
    "\n",
    "$$\n",
    "q_t + u q_x = 0\n",
    "$$\n",
    "\n",
    "This file simulates the problem shown in Figure 6.1."
   ]
  },
  {
   "cell_type": "code",
   "execution_count": null,
   "metadata": {},
   "outputs": [],
   "source": [
    "%config InlineBackend.figure_format = 'svg'\n",
    "from clawpack import pyclaw\n",
    "from clawpack import riemann\n",
    "import numpy as np\n",
    "import matplotlib.pyplot as plt"
   ]
  },
  {
   "cell_type": "markdown",
   "metadata": {},
   "source": [
    "This function calls clawpack to solve the problem."
   ]
  },
  {
   "cell_type": "code",
   "execution_count": null,
   "metadata": {},
   "outputs": [],
   "source": [
    "def solve(ncell=100, order=1, limiter=0, kernel_language='Fortran', \n",
    "          solver_type='classic', lim_type=2, weno_order=5, time_integrator='SSP33'):\n",
    "\n",
    "    if kernel_language == 'Fortran':\n",
    "        riemann_solver = riemann.advection_1D\n",
    "    elif kernel_language == 'Python':\n",
    "        riemann_solver = riemann.advection_1D_py.advection_1D\n",
    "            \n",
    "    if solver_type=='classic':\n",
    "        solver = pyclaw.ClawSolver1D(riemann_solver)\n",
    "        solver.order = order\n",
    "    elif solver_type=='sharpclaw':\n",
    "        solver = pyclaw.SharpClawSolver1D(riemann_solver)\n",
    "        solver.lim_type = lim_type\n",
    "        solver.weno_order = weno_order\n",
    "        solver.time_integrator = time_integrator\n",
    "        if time_integrator == 'SSPLMMk3':\n",
    "            solver.lmm_steps = 5\n",
    "            solver.check_lmm_cond = True\n",
    "    else: raise Exception('Unrecognized value of solver_type.')\n",
    "\n",
    "    solver.kernel_language = kernel_language\n",
    "    solver.limiters = limiter\n",
    "    solver.all_bcs = pyclaw.BC.periodic\n",
    "    solver.dt_initial = 1.e99\n",
    "    solver.cfl_desired = 0.8\n",
    "    solver.cfl_max = 1.0\n",
    "\n",
    "    xmin, xmax = 0.0, 1.0\n",
    "    domain = pyclaw.Domain( (xmin,), (xmax,), (ncell,))\n",
    "    x = domain.grid.p_centers\n",
    "\n",
    "    solution = pyclaw.Solution(solver.num_eqn, domain)\n",
    "    beta, x0 = 200.0, 0.3\n",
    "    solution.q[0, :] = np.exp(-beta * (x-x0)**2)\n",
    "    solution.q[0, :] += (np.abs(x - 0.7) < 0.1) * 1.0\n",
    "    solution.state.problem_data['u'] = 1.0 # advection velocity\n",
    "\n",
    "    claw = pyclaw.Controller()\n",
    "    claw.tfinal = 10.0\n",
    "    claw.keep_copy = True       # Keep solution data in memory for plotting\n",
    "    claw.output_format = None   # Don't write solution data to file\n",
    "    claw.num_output_times = 50  # Write 50 output frames\n",
    "    claw.verbosity = 0\n",
    "    claw.solver = solver\n",
    "    claw.solution = solution\n",
    "\n",
    "    status = claw.run()\n",
    "\n",
    "    return claw\n"
   ]
  },
  {
   "cell_type": "markdown",
   "metadata": {},
   "source": [
    "Plot initial solution and at a later time."
   ]
  },
  {
   "cell_type": "code",
   "execution_count": null,
   "metadata": {},
   "outputs": [],
   "source": [
    "def make_plots(claw):\n",
    "    x = claw.grid.x.centers\n",
    "    q0 = claw.frames[0].q[0, :]\n",
    "\n",
    "    plt.figure(figsize=(10, 5))\n",
    "\n",
    "    plt.subplot(121)\n",
    "    f = 5\n",
    "    q = claw.frames[f].q[0, :]\n",
    "    plt.plot(x, q0, '-', label='Exact')\n",
    "    plt.plot(x, q, 'o', fillstyle='none', label='Numerical')\n",
    "    plt.axis([0, 1, -0.5, 1.5])\n",
    "    plt.title('Time = ' + str(claw.frames[f].t))\n",
    "    plt.legend()\n",
    "\n",
    "    plt.subplot(122)\n",
    "    f = 25\n",
    "    q = claw.frames[f].q[0, :]\n",
    "    plt.plot(x, q0, '-', label='Exact')\n",
    "    plt.plot(x, q, 'o', fillstyle='none', label='Numerical')\n",
    "    plt.axis([0, 1, -0.5, 1.5])\n",
    "    plt.title('Time = ' + str(claw.frames[f].t))\n",
    "    plt.legend()"
   ]
  },
  {
   "cell_type": "markdown",
   "metadata": {},
   "source": [
    "## First order (upwind) scheme"
   ]
  },
  {
   "cell_type": "code",
   "execution_count": null,
   "metadata": {},
   "outputs": [],
   "source": [
    "claw = solve(order=1, limiter=0)\n",
    "make_plots(claw)"
   ]
  },
  {
   "cell_type": "markdown",
   "metadata": {},
   "source": [
    "## Lax-Wendroff without limiter"
   ]
  },
  {
   "cell_type": "code",
   "execution_count": null,
   "metadata": {},
   "outputs": [],
   "source": [
    "claw = solve(order=2, limiter=0)\n",
    "make_plots(claw)"
   ]
  },
  {
   "cell_type": "markdown",
   "metadata": {},
   "source": [
    "## Lax-Wendroff with minmod limiter"
   ]
  },
  {
   "cell_type": "code",
   "execution_count": null,
   "metadata": {},
   "outputs": [],
   "source": [
    "claw = solve(order=2, limiter=pyclaw.limiters.tvd.minmod)\n",
    "make_plots(claw)"
   ]
  },
  {
   "cell_type": "markdown",
   "metadata": {},
   "source": [
    "## Lax-Wendroff with superbee limiter"
   ]
  },
  {
   "cell_type": "code",
   "execution_count": null,
   "metadata": {},
   "outputs": [],
   "source": [
    "claw = solve(order=2, limiter=pyclaw.limiters.tvd.superbee)\n",
    "make_plots(claw)"
   ]
  },
  {
   "cell_type": "markdown",
   "metadata": {},
   "source": [
    "## Lax-Wendroff with MC limiter"
   ]
  },
  {
   "cell_type": "code",
   "execution_count": null,
   "metadata": {},
   "outputs": [],
   "source": [
    "claw = solve(order=2, limiter=pyclaw.limiters.tvd.MC)\n",
    "make_plots(claw)"
   ]
  },
  {
   "cell_type": "markdown",
   "metadata": {},
   "source": [
    "## SharpClaw: 5'th order WENO"
   ]
  },
  {
   "cell_type": "code",
   "execution_count": null,
   "metadata": {},
   "outputs": [],
   "source": [
    "claw = solve(solver_type='sharpclaw')\n",
    "make_plots(claw)\n",
    "del claw"
   ]
  },
  {
   "cell_type": "markdown",
   "metadata": {},
   "source": [
    "## SharpClaw: 7'th order WENO"
   ]
  },
  {
   "cell_type": "code",
   "execution_count": null,
   "metadata": {},
   "outputs": [],
   "source": [
    "claw = solve(solver_type='sharpclaw', weno_order=7)\n",
    "make_plots(claw)\n",
    "del claw"
   ]
  },
  {
   "cell_type": "markdown",
   "metadata": {},
   "source": [
    "## SharpClaw: MC limiter"
   ]
  },
  {
   "cell_type": "code",
   "execution_count": null,
   "metadata": {},
   "outputs": [],
   "source": [
    "claw = solve(solver_type='sharpclaw', lim_type=1, limiter=pyclaw.limiters.tvd.MC)\n",
    "make_plots(claw)\n",
    "del claw"
   ]
  },
  {
   "cell_type": "markdown",
   "metadata": {},
   "source": [
    "## Animate solution\n",
    "\n",
    "To examine the evolution more thoroughly, it's nice to see all the frames in sequence.  We can do this as follows."
   ]
  },
  {
   "cell_type": "code",
   "execution_count": null,
   "metadata": {},
   "outputs": [],
   "source": [
    "from clawpack.visclaw import ianimate\n",
    "claw = solve(order=2, limiter=pyclaw.limiters.tvd.MC)\n",
    "ianimate.ianimate(claw)"
   ]
  }
 ],
 "metadata": {
  "kernelspec": {
   "display_name": "Python 3 (ipykernel)",
   "language": "python",
   "name": "python3"
  },
  "language_info": {
   "codemirror_mode": {
    "name": "ipython",
    "version": 3
   },
   "file_extension": ".py",
   "mimetype": "text/x-python",
   "name": "python",
   "nbconvert_exporter": "python",
   "pygments_lexer": "ipython3",
   "version": "3.11.6"
  },
  "toc": {
   "nav_menu": {},
   "number_sections": true,
   "sideBar": true,
   "skip_h1_title": false,
   "toc_cell": false,
   "toc_position": {},
   "toc_section_display": "block",
   "toc_window_display": false
  }
 },
 "nbformat": 4,
 "nbformat_minor": 4
}
