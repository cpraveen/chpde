{
 "cells": [
  {
   "cell_type": "markdown",
   "metadata": {},
   "source": [
    "#  Linear advection equation with source term\n",
    "\n",
    "This file simulates the problem shown in Figure 17.3.\n",
    "\n",
    "$$\n",
    "q_t + a q_x = -\\beta(x) q, \\qquad q(x,0) = q_0(x), \\qquad \\beta(x) = \\begin{cases}\n",
    "1 & x < 0 \\\\\n",
    "1 - x & 0 \\le x \\le 1 \\\\\n",
    "0 & x > 1 \\end{cases}\n",
    "$$\n",
    "\n",
    "The exact solution is\n",
    "\n",
    "$$\n",
    "q(x,t) = \\exp\\left(-\\frac{1}{a} \\int_{x-at}^x \\beta(s) ds \\right) q_0(x-at)\n",
    "$$\n",
    "\n",
    "We use $a=1$ in the computations."
   ]
  },
  {
   "cell_type": "code",
   "execution_count": null,
   "metadata": {},
   "outputs": [],
   "source": [
    "%config InlineBackend.figure_format = 'svg'\n",
    "from clawpack import pyclaw\n",
    "from clawpack import riemann\n",
    "import numpy as np\n",
    "import matplotlib.pyplot as plt"
   ]
  },
  {
   "cell_type": "code",
   "execution_count": null,
   "metadata": {},
   "outputs": [],
   "source": [
    "def beta(x):\n",
    "    return ((x < 0.0)*(1.0)\n",
    "            + (0.0 <= x)*(x <= 1.0)*(1.0 - x)\n",
    "            + (x > 1.0)*(0.0))\n",
    "\n",
    "# Exact solution, also used for initial condition\n",
    "def uexact(x,t):\n",
    "    alpha, x0 = 200.0, 0.25\n",
    "    xx = x - t\n",
    "    b1 = (0.0 - xx) + (x - 0.5 * x**2)\n",
    "    b2 = x - xx - 0.5 * (x**2 - xx**2)\n",
    "    bint = (xx <= 0.0) * b1 + (xx > 0.0) * b2\n",
    "    return np.exp(-bint) * np.exp(-alpha * (xx-x0)**2)"
   ]
  },
  {
   "cell_type": "markdown",
   "metadata": {},
   "source": [
    "This function calls clawpack to solve the problem."
   ]
  },
  {
   "cell_type": "code",
   "execution_count": null,
   "metadata": {},
   "outputs": [],
   "source": [
    "# Exact solution of source ODE\n",
    "def step_source(solver,state,dt):\n",
    "    x = state.grid.x.centers\n",
    "    state.q[0,:] *= np.exp(-beta(x) * dt)\n",
    "\n",
    "def solve(ncell=50, order=1, limiter=0, source_split=1):\n",
    "    claw = pyclaw.Controller()\n",
    "    claw.tfinal = 0.5\n",
    "    claw.keep_copy = True       # Keep solution data in memory for plotting\n",
    "    claw.output_format = None   # Don't write solution data to file\n",
    "    claw.num_output_times = 10  # Write 50 output frames\n",
    "    claw.verbosity = 0\n",
    "\n",
    "    riemann_solver = riemann.advection_1D\n",
    "    claw.solver = pyclaw.ClawSolver1D(riemann_solver)\n",
    "    claw.solver.all_bcs = pyclaw.BC.extrap\n",
    "    claw.solver.dt_initial = 1.e99\n",
    "    claw.solver.order = order\n",
    "    claw.solver.limiters = limiter\n",
    "    claw.solver.source_split = source_split\n",
    "    claw.solver.step_source = step_source\n",
    "\n",
    "    xmin, xmax = 0.0, 1.0\n",
    "    domain = pyclaw.Domain( (xmin,), (xmax,), (ncell,))\n",
    "\n",
    "    claw.solution = pyclaw.Solution(claw.solver.num_eqn, domain)\n",
    "\n",
    "    x = domain.grid.x.centers\n",
    "    claw.solution.q[0, :] = uexact(x, 0.0)\n",
    "\n",
    "    claw.solution.state.problem_data['u'] = 1.0\n",
    "\n",
    "    status = claw.run()\n",
    "\n",
    "    return claw\n"
   ]
  },
  {
   "cell_type": "markdown",
   "metadata": {},
   "source": [
    "Plot initial solution and at a later time."
   ]
  },
  {
   "cell_type": "code",
   "execution_count": null,
   "metadata": {},
   "outputs": [],
   "source": [
    "def make_plots(claw):\n",
    "    x = claw.grid.x.centers\n",
    "    q0 = claw.frames[0].q[0, :]\n",
    "    q = claw.frames[-1].q[0, :]\n",
    "    plt.plot(x, q0, '-s', label='Initial')\n",
    "    plt.plot(x, q, '-o', fillstyle='none', label='Final')\n",
    "    plt.xlabel('x'); plt.ylabel('q')\n",
    "    plt.title('Time = ' + str(claw.frames[-1].t))\n",
    "    plt.legend()"
   ]
  },
  {
   "cell_type": "markdown",
   "metadata": {},
   "source": [
    "## First order (upwind) with Strang splitting"
   ]
  },
  {
   "cell_type": "code",
   "execution_count": null,
   "metadata": {},
   "outputs": [],
   "source": [
    "claw1 = solve(order=1, limiter=0, source_split=2)\n",
    "make_plots(claw1)"
   ]
  },
  {
   "cell_type": "markdown",
   "metadata": {},
   "source": [
    "## Lax-Wendroff with Godunov splitting"
   ]
  },
  {
   "cell_type": "code",
   "execution_count": null,
   "metadata": {},
   "outputs": [],
   "source": [
    "claw2 = solve(order=2, limiter=0, source_split=1)\n",
    "make_plots(claw2)"
   ]
  },
  {
   "cell_type": "markdown",
   "metadata": {},
   "source": [
    "## Lax-Wendroff with Strang splitting"
   ]
  },
  {
   "cell_type": "code",
   "execution_count": null,
   "metadata": {},
   "outputs": [],
   "source": [
    "claw3 = solve(order=2, limiter=0, source_split=2)\n",
    "make_plots(claw3)"
   ]
  },
  {
   "cell_type": "markdown",
   "metadata": {},
   "source": [
    "## Compare"
   ]
  },
  {
   "cell_type": "code",
   "execution_count": null,
   "metadata": {},
   "outputs": [],
   "source": [
    "x = claw1.grid.x.centers\n",
    "t = claw1.frames[-1].t\n",
    "\n",
    "xe = np.linspace(x[0],x[-1],200)\n",
    "qe = uexact(xe, t)\n",
    "\n",
    "q1 = claw1.frames[-1].q[0, :]\n",
    "q2 = claw2.frames[-1].q[0, :]\n",
    "q3 = claw3.frames[-1].q[0, :]\n",
    "plt.plot(xe, qe, '-', fillstyle='none', label='Exact')\n",
    "plt.plot(x, q1, 'o', fillstyle='none', label='Upwind+Strang')\n",
    "plt.plot(x, q2, 's', fillstyle='none', label='LW+Godunov')\n",
    "plt.plot(x, q3, '*', fillstyle='none', label='LW+Strang')\n",
    "plt.xlim(0.5, 1.0)\n",
    "plt.xlabel('x'); plt.ylabel('q')\n",
    "plt.title('Time = ' + str(t))\n",
    "plt.legend();"
   ]
  }
 ],
 "metadata": {
  "kernelspec": {
   "display_name": "base",
   "language": "python",
   "name": "python3"
  },
  "language_info": {
   "codemirror_mode": {
    "name": "ipython",
    "version": 3
   },
   "file_extension": ".py",
   "mimetype": "text/x-python",
   "name": "python",
   "nbconvert_exporter": "python",
   "pygments_lexer": "ipython3",
   "version": "3.11.6"
  },
  "toc": {
   "nav_menu": {},
   "number_sections": true,
   "sideBar": true,
   "skip_h1_title": false,
   "toc_cell": false,
   "toc_position": {},
   "toc_section_display": "block",
   "toc_window_display": false
  }
 },
 "nbformat": 4,
 "nbformat_minor": 1
}
