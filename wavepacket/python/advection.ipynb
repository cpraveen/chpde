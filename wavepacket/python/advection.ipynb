{
 "cells": [
  {
   "cell_type": "markdown",
   "metadata": {},
   "source": [
    "#  Linear advection equation\n",
    "\n",
    "This file simulates the problem shown in Figure 6.3."
   ]
  },
  {
   "cell_type": "code",
   "execution_count": null,
   "metadata": {},
   "outputs": [],
   "source": [
    "%config InlineBackend.figure_format = 'svg'\n",
    "from clawpack import pyclaw\n",
    "from clawpack import riemann\n",
    "import numpy as np\n",
    "import matplotlib.pyplot as plt"
   ]
  },
  {
   "cell_type": "markdown",
   "metadata": {},
   "source": [
    "This function calls clawpack to solve the problem."
   ]
  },
  {
   "cell_type": "code",
   "execution_count": null,
   "metadata": {},
   "outputs": [],
   "source": [
    "def solve(ncell=200, order=1, limiter=0):\n",
    "    claw = pyclaw.Controller()\n",
    "    claw.tfinal = 10.0\n",
    "    claw.keep_copy = True       # Keep solution data in memory for plotting\n",
    "    claw.output_format = None   # Don't write solution data to file\n",
    "    claw.num_output_times = 50  # Write 50 output frames\n",
    "    claw.verbosity = 0\n",
    "\n",
    "    riemann_solver = riemann.advection_1D\n",
    "    claw.solver = pyclaw.ClawSolver1D(riemann_solver)\n",
    "    claw.solver.all_bcs = pyclaw.BC.periodic\n",
    "    claw.solver.dt_initial = 1.e99\n",
    "    claw.solver.order = order\n",
    "    claw.solver.limiters = limiter\n",
    "\n",
    "    xmin, xmax = 0.0, 1.0\n",
    "    domain = pyclaw.Domain( (xmin,), (xmax,), (ncell,))\n",
    "\n",
    "    claw.solution = pyclaw.Solution(claw.solver.num_eqn, domain)\n",
    "\n",
    "    x = domain.grid.x.centers\n",
    "    beta, x0, freq = 200.0, 0.5, 80.0\n",
    "    claw.solution.q[0, :] = np.exp(-beta * (x-x0)**2) * np.sin(freq * x)\n",
    "\n",
    "    claw.solution.state.problem_data['u'] = 1.0\n",
    "\n",
    "    status = claw.run()\n",
    "\n",
    "    return claw\n"
   ]
  },
  {
   "cell_type": "markdown",
   "metadata": {},
   "source": [
    "Plot initial solution and at a later time."
   ]
  },
  {
   "cell_type": "code",
   "execution_count": null,
   "metadata": {},
   "outputs": [],
   "source": [
    "def make_plots(claw):\n",
    "    x = claw.grid.x.centers\n",
    "    q0 = claw.frames[0].q[0, :]\n",
    "\n",
    "    plt.figure(figsize=(10, 5))\n",
    "\n",
    "    plt.subplot(121)\n",
    "    f = 5\n",
    "    q = claw.frames[f].q[0, :]\n",
    "    plt.plot(x, q0, '-', label='Exact')\n",
    "    plt.plot(x, q, 'o', fillstyle='none', label='Numerical')\n",
    "    plt.axis([0, 1, -1.0, 1.0])\n",
    "    plt.title('Time = ' + str(claw.frames[f].t))\n",
    "    plt.legend()\n",
    "\n",
    "    plt.subplot(122)\n",
    "    f = 25\n",
    "    q = claw.frames[f].q[0, :]\n",
    "    plt.plot(x, q0, '-', label='Exact')\n",
    "    plt.plot(x, q, 'o', fillstyle='none', label='Numerical')\n",
    "    plt.axis([0, 1, -1.0, 1.0])\n",
    "    plt.title('Time = ' + str(claw.frames[f].t))\n",
    "    plt.legend()"
   ]
  },
  {
   "cell_type": "markdown",
   "metadata": {},
   "source": [
    "## First order (upwind) scheme"
   ]
  },
  {
   "cell_type": "code",
   "execution_count": null,
   "metadata": {},
   "outputs": [],
   "source": [
    "claw = solve(order=1, limiter=0)\n",
    "make_plots(claw)"
   ]
  },
  {
   "cell_type": "markdown",
   "metadata": {},
   "source": [
    "## Lax-Wendroff without limiter"
   ]
  },
  {
   "cell_type": "code",
   "execution_count": null,
   "metadata": {},
   "outputs": [],
   "source": [
    "claw = solve(order=2, limiter=0)\n",
    "make_plots(claw)"
   ]
  },
  {
   "cell_type": "markdown",
   "metadata": {},
   "source": [
    "## Lax-Wendroff with minmod limiter"
   ]
  },
  {
   "cell_type": "code",
   "execution_count": null,
   "metadata": {},
   "outputs": [],
   "source": [
    "claw = solve(order=2, limiter=pyclaw.limiters.tvd.minmod)\n",
    "make_plots(claw)"
   ]
  },
  {
   "cell_type": "markdown",
   "metadata": {},
   "source": [
    "## Lax-Wendroff with superbee limiter"
   ]
  },
  {
   "cell_type": "code",
   "execution_count": null,
   "metadata": {},
   "outputs": [],
   "source": [
    "claw = solve(order=2, limiter=pyclaw.limiters.tvd.superbee)\n",
    "make_plots(claw)"
   ]
  },
  {
   "cell_type": "markdown",
   "metadata": {},
   "source": [
    "## Lax-Wendroff with MC limiter"
   ]
  },
  {
   "cell_type": "code",
   "execution_count": null,
   "metadata": {},
   "outputs": [],
   "source": [
    "claw = solve(order=2, limiter=pyclaw.limiters.tvd.MC)\n",
    "make_plots(claw)"
   ]
  },
  {
   "cell_type": "markdown",
   "metadata": {},
   "source": [
    "To examine the evolution more thoroughly, it's nice to see all the frames in sequence.  We can do this as follows."
   ]
  },
  {
   "cell_type": "code",
   "execution_count": null,
   "metadata": {},
   "outputs": [],
   "source": [
    "from clawpack.visclaw import ianimate\n",
    "ianimate.ianimate(claw)"
   ]
  }
 ],
 "metadata": {
  "kernelspec": {
   "display_name": "base",
   "language": "python",
   "name": "python3"
  },
  "language_info": {
   "codemirror_mode": {
    "name": "ipython",
    "version": 3
   },
   "file_extension": ".py",
   "mimetype": "text/x-python",
   "name": "python",
   "nbconvert_exporter": "python",
   "pygments_lexer": "ipython3",
   "version": "3.10.12"
  },
  "toc": {
   "nav_menu": {},
   "number_sections": true,
   "sideBar": true,
   "skip_h1_title": false,
   "toc_cell": false,
   "toc_position": {},
   "toc_section_display": "block",
   "toc_window_display": false
  }
 },
 "nbformat": 4,
 "nbformat_minor": 1
}
