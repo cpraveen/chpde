{
 "cells": [
  {
   "cell_type": "markdown",
   "metadata": {},
   "source": [
    "You can actually do a lot of interesting things -- not related to hyperbolic PDEs -- with the building blocks of PyClaw.  Let's see how.\n",
    "\n",
    "To run this notebook, you'll first need to [install PyClaw](http://www.clawpack.org/pyclaw/started.html) if you haven't already."
   ]
  },
  {
   "cell_type": "code",
   "execution_count": null,
   "metadata": {},
   "outputs": [],
   "source": [
    "%matplotlib inline\n",
    "from clawpack import pyclaw\n",
    "import numpy as np\n",
    "import matplotlib.pyplot as plt"
   ]
  },
  {
   "cell_type": "markdown",
   "metadata": {},
   "source": [
    "The `pyclaw.Geometry` module contains things of general use when dealing with structured grids in 1, 2, or 3 dimensions.  If you place the cursor at the end of the next cell and hit `<tab>`, you'll see what is included:\n",
    "\n",
    "- Dimension\n",
    "- Patch\n",
    "- Grid\n",
    "- Domain"
   ]
  },
  {
   "cell_type": "code",
   "execution_count": null,
   "metadata": {},
   "outputs": [],
   "source": [
    "pyclaw.geometry."
   ]
  },
  {
   "cell_type": "markdown",
   "metadata": {},
   "source": [
    "# `pyclaw.Dimension`"
   ]
  },
  {
   "cell_type": "markdown",
   "metadata": {},
   "source": [
    "The building block for all PyClaw geometry is the Dimension object.  The docstring explains most of what it can do."
   ]
  },
  {
   "cell_type": "code",
   "execution_count": null,
   "metadata": {},
   "outputs": [],
   "source": [
    "print(pyclaw.Dimension.__doc__)"
   ]
  },
  {
   "cell_type": "markdown",
   "metadata": {},
   "source": [
    "Let's instantiate a `Dimension` object and see what we can do with it."
   ]
  },
  {
   "cell_type": "code",
   "execution_count": null,
   "metadata": {},
   "outputs": [],
   "source": [
    "x = pyclaw.Dimension(0.,1.,10) # Dimension with 10 intervals in [0,1]"
   ]
  },
  {
   "cell_type": "markdown",
   "metadata": {},
   "source": [
    "A Dimension object is essentially an equipartitioning of an interval.  The four arguments used to initialize it are, in order:\n",
    "\n",
    "- A name\n",
    "- The left end of the interval (`lower`)\n",
    "- The right end of the interval (`upper`)\n",
    "- The number of partitions, or cells (`n`)\n",
    "\n",
    "Printing the Dimension object gives us essentially this information back:"
   ]
  },
  {
   "cell_type": "code",
   "execution_count": null,
   "metadata": {},
   "outputs": [],
   "source": [
    "print(x)\n",
    "x.centers"
   ]
  },
  {
   "cell_type": "markdown",
   "metadata": {},
   "source": [
    "Notice that the printed statement also includes `delta`, the width of a single partition.  The Dimension knows a lot more.  For instance, it can tell us the locations of the cell centers:"
   ]
  },
  {
   "cell_type": "code",
   "execution_count": null,
   "metadata": {},
   "outputs": [],
   "source": [
    "print(x.centers)"
   ]
  },
  {
   "cell_type": "markdown",
   "metadata": {},
   "source": [
    "and of the cell edges (often referred to as *interfaces* in finite volume terminology):"
   ]
  },
  {
   "cell_type": "code",
   "execution_count": null,
   "metadata": {},
   "outputs": [],
   "source": [
    "print(x.nodes)"
   ]
  },
  {
   "cell_type": "markdown",
   "metadata": {},
   "source": [
    "## Modifying a Dimension\n",
    "The Dimension is an interactive object: if we change one of its properties, the others are updated automatically.  Here, we change the number of cells from 10 to 8 and the cell centers are automatically respaced."
   ]
  },
  {
   "cell_type": "code",
   "execution_count": null,
   "metadata": {},
   "outputs": [],
   "source": [
    "x.num_cells=8\n",
    "print(x)\n",
    "x.centers"
   ]
  },
  {
   "cell_type": "markdown",
   "metadata": {},
   "source": [
    "Similarly, we can change the boundary locations:"
   ]
  },
  {
   "cell_type": "code",
   "execution_count": null,
   "metadata": {},
   "outputs": [],
   "source": [
    "x.lower=-0.5\n",
    "print(x)\n",
    "x.centers"
   ]
  },
  {
   "cell_type": "markdown",
   "metadata": {},
   "source": [
    "Using the cell and edge coordinates, we can easily plot a function that is defined piecewise over these intervals:"
   ]
  },
  {
   "cell_type": "code",
   "execution_count": null,
   "metadata": {},
   "outputs": [],
   "source": [
    "q = np.exp(x.centers)\n",
    "print(q)\n",
    "for i in range(x.num_cells):\n",
    "    plt.plot([x.nodes[i],x.edges[i+1]],[q[i],q[i]],'b',lw=2)\n",
    "    if i<x.num_cells-1:\n",
    "        plt.plot([x.nodes[i+1],x.edges[i+1]],[q[i],q[i+1]],'b',lw=2)"
   ]
  },
  {
   "cell_type": "markdown",
   "metadata": {},
   "source": [
    "# `pyclaw.Grid`"
   ]
  },
  {
   "cell_type": "markdown",
   "metadata": {},
   "source": [
    "We can take one or more Dimension objects and form a `Grid` with them.  The Grid is just a partitioning of the tensor product of the Dimensions, where the partitioning is given by the tensor product of the Dimension intervals.  If that sounds complicated, just know that the grid can give us multidimensional coordinates, similar to the MATLAB or Numpy command `meshgrid`."
   ]
  },
  {
   "cell_type": "markdown",
   "metadata": {},
   "source": [
    "One-dimensional grids are not very interesting, so let's create a two-dimensional grid:"
   ]
  },
  {
   "cell_type": "code",
   "execution_count": null,
   "metadata": {},
   "outputs": [],
   "source": [
    "x = pyclaw.Dimension(-1.,1.,10,name='x')\n",
    "y = pyclaw.Dimension(-1.,1.,10,name='y')\n",
    "print(x)\n",
    "print(y)"
   ]
  },
  {
   "cell_type": "code",
   "execution_count": null,
   "metadata": {},
   "outputs": [],
   "source": [
    "grid = pyclaw.geometry.Grid((x,y))\n",
    "print(grid)"
   ]
  },
  {
   "cell_type": "markdown",
   "metadata": {},
   "source": [
    "The Grid is also fully interactive, so we can change its properties (or those of its constituent Dimensions) and all other properties automatically update."
   ]
  },
  {
   "cell_type": "code",
   "execution_count": null,
   "metadata": {},
   "outputs": [],
   "source": [
    "x.num_cells = 12\n",
    "x.upper = 3.\n",
    "print(grid)"
   ]
  },
  {
   "cell_type": "markdown",
   "metadata": {},
   "source": [
    "We can get the coordinates of all the cell centers:"
   ]
  },
  {
   "cell_type": "code",
   "execution_count": null,
   "metadata": {},
   "outputs": [],
   "source": [
    "X, Y = grid.c_centers\n",
    "print(Y)"
   ]
  },
  {
   "cell_type": "markdown",
   "metadata": {},
   "source": [
    "We can plot the grid, optionally marking the locations of nodes and centers:"
   ]
  },
  {
   "cell_type": "code",
   "execution_count": null,
   "metadata": {},
   "outputs": [],
   "source": [
    "grid.plot(mark_nodes=True,mark_centers=True);"
   ]
  },
  {
   "cell_type": "markdown",
   "metadata": {},
   "source": [
    "The plot above is simply drawing all the lines between adjacent nodes of the grid."
   ]
  },
  {
   "cell_type": "markdown",
   "metadata": {},
   "source": [
    "In numerical PDEs, we often use *ghost cells* around the edge of the grid to implement boundary conditions.  The `grid.plot` function knows about those too:"
   ]
  },
  {
   "cell_type": "code",
   "execution_count": null,
   "metadata": {},
   "outputs": [],
   "source": [
    "grid.plot(num_ghost=2);"
   ]
  },
  {
   "cell_type": "markdown",
   "metadata": {},
   "source": [
    "# Mappings"
   ]
  },
  {
   "cell_type": "markdown",
   "metadata": {},
   "source": [
    "PyClaw grids need not be rectangular.  We can define a grid over any region that results from a mapping of a rectangle.  For instance, here is a mapping that takes a square to a circle (from [the SIAM Review paper of Calhoun, Helzel, & LeVeque](http://faculty.washington.edu/rjl/pubs/circles/)):"
   ]
  },
  {
   "cell_type": "code",
   "execution_count": null,
   "metadata": {},
   "outputs": [],
   "source": [
    "def square2circle(xc,yc,r1=1.0):\n",
    "    d = np.maximum(np.abs(xc),np.abs(yc))\n",
    "    r = np.sqrt(xc**2 + yc**2)\n",
    "    r = np.maximum(r, 1.e-10)\n",
    "    xp = r1 * d * xc/r\n",
    "    yp = r1 * d * yc/r\n",
    "    return [xp, yp]"
   ]
  },
  {
   "cell_type": "markdown",
   "metadata": {},
   "source": [
    "The `grid.mapc2p` function is the identity mapping by default.  Let's create a new grid and associate with it the circle mapping."
   ]
  },
  {
   "cell_type": "code",
   "execution_count": null,
   "metadata": {},
   "outputs": [],
   "source": [
    "x.upper = 1.\n",
    "\n",
    "grid.mapc2p = square2circle\n",
    "grid.plot(num_ghost=1);"
   ]
  }
 ],
 "metadata": {
  "kernelspec": {
   "display_name": "Python 3",
   "language": "python",
   "name": "python3"
  },
  "language_info": {
   "codemirror_mode": {
    "name": "ipython",
    "version": 3
   },
   "file_extension": ".py",
   "mimetype": "text/x-python",
   "name": "python",
   "nbconvert_exporter": "python",
   "pygments_lexer": "ipython3",
   "version": "3.6.5"
  },
  "toc": {
   "nav_menu": {},
   "number_sections": true,
   "sideBar": true,
   "skip_h1_title": false,
   "toc_cell": false,
   "toc_position": {},
   "toc_section_display": "block",
   "toc_window_display": false
  }
 },
 "nbformat": 4,
 "nbformat_minor": 1
}
