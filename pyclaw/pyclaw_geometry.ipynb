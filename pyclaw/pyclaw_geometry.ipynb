{
 "cells": [
  {
   "cell_type": "markdown",
   "metadata": {},
   "source": [
    "# PyClaw Geometry\n",
    "\n",
    "You can actually do a lot of interesting things -- not related to hyperbolic PDEs -- with the building blocks of PyClaw.  Let's see how.\n",
    "\n",
    "To run this notebook, you'll first need to [install PyClaw](http://www.clawpack.org/pyclaw/started.html) if you haven't already."
   ]
  },
  {
   "cell_type": "code",
   "execution_count": 36,
   "metadata": {},
   "outputs": [],
   "source": [
    "%matplotlib inline\n",
    "from clawpack import pyclaw\n",
    "import numpy as np\n",
    "import matplotlib.pyplot as plt"
   ]
  },
  {
   "cell_type": "markdown",
   "metadata": {},
   "source": [
    "The `pyclaw.Geometry` module contains things of general use when dealing with structured grids in 1, 2, or 3 dimensions.  Type `pyclaw.geometry.` in a code block and hit `<tab>`, you'll see what is included:\n",
    "\n",
    "- Dimension\n",
    "- Patch\n",
    "- Grid\n",
    "- Domain"
   ]
  },
  {
   "cell_type": "markdown",
   "metadata": {},
   "source": [
    "# `pyclaw.Dimension`"
   ]
  },
  {
   "cell_type": "markdown",
   "metadata": {},
   "source": [
    "The building block for all PyClaw geometry is the Dimension object.  The docstring explains most of what it can do."
   ]
  },
  {
   "cell_type": "code",
   "execution_count": 37,
   "metadata": {},
   "outputs": [
    {
     "name": "stdout",
     "output_type": "stream",
     "text": [
      "\n",
      "    Basic class representing a dimension of a Patch object\n",
      "\n",
      "    :Initialization:\n",
      "\n",
      "    Required arguments, in order:\n",
      "     - *lower* - (float) Lower extent of dimension\n",
      "     - *upper* - (float) Upper extent of dimension\n",
      "     - *num_cells* - (int) Number of cells\n",
      "\n",
      "    Optional (keyword) arguments:\n",
      "     - *name* - (string) string Name of dimension\n",
      "     - *units* - (string) Type of units, used for informational purposes only\n",
      "\n",
      "    Output:\n",
      "     - (:class:`Dimension`) - Initialized Dimension object\n",
      "\n",
      "    Example:\n",
      "\n",
      "    >>> from clawpack.pyclaw.geometry import Dimension\n",
      "    >>> x = Dimension(0.,1.,100,name='x')\n",
      "    >>> print(x)\n",
      "    Dimension x:  (num_cells,delta,[lower,upper]) = (100,0.01,[0.0,1.0])\n",
      "    >>> x.name\n",
      "    'x'\n",
      "    >>> x.num_cells\n",
      "    100\n",
      "    >>> x.delta\n",
      "    0.01\n",
      "    >>> x.nodes[0]\n",
      "    0.0\n",
      "    >>> x.nodes[1]\n",
      "    0.01\n",
      "    >>> x.nodes[-1]\n",
      "    1.0\n",
      "    >>> x.centers[-1]\n",
      "    0.995\n",
      "    >>> len(x.centers)\n",
      "    100\n",
      "    >>> len(x.nodes)\n",
      "    101\n",
      "    \n"
     ]
    }
   ],
   "source": [
    "print(pyclaw.Dimension.__doc__)"
   ]
  },
  {
   "cell_type": "markdown",
   "metadata": {},
   "source": [
    "Let's instantiate a `Dimension` object and see what we can do with it."
   ]
  },
  {
   "cell_type": "code",
   "execution_count": 38,
   "metadata": {},
   "outputs": [],
   "source": [
    "x = pyclaw.Dimension(0.0,1.0,10) # Dimension with 10 intervals in [0,1]"
   ]
  },
  {
   "cell_type": "markdown",
   "metadata": {},
   "source": [
    "A Dimension object is essentially an equipartitioning of an interval.  The four arguments used to initialize it are, in order:\n",
    "\n",
    "- A name\n",
    "- The left end of the interval (`lower`)\n",
    "- The right end of the interval (`upper`)\n",
    "- The number of partitions, or cells (`n`)\n",
    "\n",
    "Printing the Dimension object gives us essentially this information back:"
   ]
  },
  {
   "cell_type": "code",
   "execution_count": 39,
   "metadata": {},
   "outputs": [
    {
     "name": "stdout",
     "output_type": "stream",
     "text": [
      "Dimension x:  (num_cells,delta,[lower,upper]) = (10,0.1,[0.0,1.0])\n"
     ]
    },
    {
     "data": {
      "text/plain": [
       "array([0.05, 0.15, 0.25, 0.35, 0.45, 0.55, 0.65, 0.75, 0.85, 0.95])"
      ]
     },
     "execution_count": 39,
     "metadata": {},
     "output_type": "execute_result"
    }
   ],
   "source": [
    "print(x)\n",
    "x.centers"
   ]
  },
  {
   "cell_type": "markdown",
   "metadata": {},
   "source": [
    "Notice that the printed statement also includes `delta`, the width of a single partition.  The Dimension knows a lot more.  For instance, it can tell us the locations of the cell centers:"
   ]
  },
  {
   "cell_type": "code",
   "execution_count": 40,
   "metadata": {},
   "outputs": [
    {
     "name": "stdout",
     "output_type": "stream",
     "text": [
      "[0.05 0.15 0.25 0.35 0.45 0.55 0.65 0.75 0.85 0.95]\n"
     ]
    }
   ],
   "source": [
    "print(x.centers)"
   ]
  },
  {
   "cell_type": "markdown",
   "metadata": {},
   "source": [
    "and of the cell edges (often referred to as *interfaces* in finite volume terminology):"
   ]
  },
  {
   "cell_type": "code",
   "execution_count": 41,
   "metadata": {},
   "outputs": [
    {
     "name": "stdout",
     "output_type": "stream",
     "text": [
      "[0.  0.1 0.2 0.3 0.4 0.5 0.6 0.7 0.8 0.9 1. ]\n"
     ]
    }
   ],
   "source": [
    "print(x.nodes)"
   ]
  },
  {
   "cell_type": "markdown",
   "metadata": {},
   "source": [
    "## Modifying a Dimension\n",
    "The Dimension is an interactive object: if we change one of its properties, the others are updated automatically.  Here, we change the number of cells from 10 to 8 and the cell centers are automatically respaced."
   ]
  },
  {
   "cell_type": "code",
   "execution_count": 42,
   "metadata": {},
   "outputs": [
    {
     "name": "stdout",
     "output_type": "stream",
     "text": [
      "Dimension x:  (num_cells,delta,[lower,upper]) = (8,0.125,[0.0,1.0])\n"
     ]
    },
    {
     "data": {
      "text/plain": [
       "array([0.0625, 0.1875, 0.3125, 0.4375, 0.5625, 0.6875, 0.8125, 0.9375])"
      ]
     },
     "execution_count": 42,
     "metadata": {},
     "output_type": "execute_result"
    }
   ],
   "source": [
    "x.num_cells = 8\n",
    "print(x)\n",
    "x.centers"
   ]
  },
  {
   "cell_type": "markdown",
   "metadata": {},
   "source": [
    "Similarly, we can change the boundary locations:"
   ]
  },
  {
   "cell_type": "code",
   "execution_count": 43,
   "metadata": {},
   "outputs": [
    {
     "name": "stdout",
     "output_type": "stream",
     "text": [
      "Dimension x:  (num_cells,delta,[lower,upper]) = (8,0.1875,[-0.5,1.0])\n"
     ]
    },
    {
     "data": {
      "text/plain": [
       "array([-0.40625, -0.21875, -0.03125,  0.15625,  0.34375,  0.53125,\n",
       "        0.71875,  0.90625])"
      ]
     },
     "execution_count": 43,
     "metadata": {},
     "output_type": "execute_result"
    }
   ],
   "source": [
    "x.lower = -0.5\n",
    "print(x)\n",
    "x.centers"
   ]
  },
  {
   "cell_type": "markdown",
   "metadata": {},
   "source": [
    "Using the cell and edge coordinates, we can easily plot a function that is defined piecewise over these intervals:"
   ]
  },
  {
   "cell_type": "code",
   "execution_count": 44,
   "metadata": {},
   "outputs": [
    {
     "name": "stdout",
     "output_type": "stream",
     "text": [
      "[0.66614361 0.80352257 0.96923323 1.16911845 1.41022603 1.7010573\n",
      " 2.05186677 2.47502377]\n"
     ]
    },
    {
     "data": {
      "image/png": "[encoded data removed]",
      "text/plain": [
       "<Figure size 640x480 with 1 Axes>"
      ]
     },
     "metadata": {},
     "output_type": "display_data"
    }
   ],
   "source": [
    "q = np.exp(x.centers)\n",
    "print(q)\n",
    "for i in range(x.num_cells):\n",
    "    plt.plot([x.nodes[i],x.edges[i+1]],[q[i],q[i]],'b',lw=2)\n",
    "    if i<x.num_cells-1:\n",
    "        plt.plot([x.nodes[i+1],x.edges[i+1]],[q[i],q[i+1]],'b',lw=2)"
   ]
  },
  {
   "cell_type": "markdown",
   "metadata": {},
   "source": [
    "# `pyclaw.Grid`"
   ]
  },
  {
   "cell_type": "markdown",
   "metadata": {},
   "source": [
    "We can take one or more Dimension objects and form a `Grid` with them.  The Grid is just a partitioning of the tensor product of the Dimensions, where the partitioning is given by the tensor product of the Dimension intervals.  If that sounds complicated, just know that the grid can give us multidimensional coordinates, similar to the MATLAB or Numpy command `meshgrid`."
   ]
  },
  {
   "cell_type": "markdown",
   "metadata": {},
   "source": [
    "One-dimensional grids are not very interesting, so let's create a two-dimensional grid:"
   ]
  },
  {
   "cell_type": "code",
   "execution_count": 45,
   "metadata": {},
   "outputs": [
    {
     "name": "stdout",
     "output_type": "stream",
     "text": [
      "Dimension x:  (num_cells,delta,[lower,upper]) = (10,0.2,[-1.0,1.0])\n",
      "Dimension y:  (num_cells,delta,[lower,upper]) = (10,0.2,[-1.0,1.0])\n"
     ]
    }
   ],
   "source": [
    "x = pyclaw.Dimension(-1.0,1.0,10,name='x')\n",
    "y = pyclaw.Dimension(-1.0,1.0,10,name='y')\n",
    "print(x)\n",
    "print(y)"
   ]
  },
  {
   "cell_type": "code",
   "execution_count": 46,
   "metadata": {},
   "outputs": [
    {
     "name": "stdout",
     "output_type": "stream",
     "text": [
      "2-dimensional domain (x,y)\n",
      "No mapping\n",
      "Extent:  [-1.0, 1.0] x [-1.0, 1.0]\n",
      "Cells:  10 x 10\n"
     ]
    }
   ],
   "source": [
    "grid = pyclaw.geometry.Grid((x,y))\n",
    "print(grid)"
   ]
  },
  {
   "cell_type": "markdown",
   "metadata": {},
   "source": [
    "The Grid is also fully interactive, so we can change its properties (or those of its constituent Dimensions) and all other properties automatically update."
   ]
  },
  {
   "cell_type": "code",
   "execution_count": 47,
   "metadata": {},
   "outputs": [
    {
     "name": "stdout",
     "output_type": "stream",
     "text": [
      "2-dimensional domain (x,y)\n",
      "No mapping\n",
      "Extent:  [-1.0, 3.0] x [-1.0, 1.0]\n",
      "Cells:  12 x 10\n"
     ]
    }
   ],
   "source": [
    "x.num_cells = 12\n",
    "x.upper = 3.0\n",
    "print(grid)"
   ]
  },
  {
   "cell_type": "markdown",
   "metadata": {},
   "source": [
    "We can get the coordinates of all the cell centers:"
   ]
  },
  {
   "cell_type": "code",
   "execution_count": 48,
   "metadata": {},
   "outputs": [
    {
     "name": "stdout",
     "output_type": "stream",
     "text": [
      "[[-0.9 -0.7 -0.5 -0.3 -0.1  0.1  0.3  0.5  0.7  0.9]\n",
      " [-0.9 -0.7 -0.5 -0.3 -0.1  0.1  0.3  0.5  0.7  0.9]\n",
      " [-0.9 -0.7 -0.5 -0.3 -0.1  0.1  0.3  0.5  0.7  0.9]\n",
      " [-0.9 -0.7 -0.5 -0.3 -0.1  0.1  0.3  0.5  0.7  0.9]\n",
      " [-0.9 -0.7 -0.5 -0.3 -0.1  0.1  0.3  0.5  0.7  0.9]\n",
      " [-0.9 -0.7 -0.5 -0.3 -0.1  0.1  0.3  0.5  0.7  0.9]\n",
      " [-0.9 -0.7 -0.5 -0.3 -0.1  0.1  0.3  0.5  0.7  0.9]\n",
      " [-0.9 -0.7 -0.5 -0.3 -0.1  0.1  0.3  0.5  0.7  0.9]\n",
      " [-0.9 -0.7 -0.5 -0.3 -0.1  0.1  0.3  0.5  0.7  0.9]\n",
      " [-0.9 -0.7 -0.5 -0.3 -0.1  0.1  0.3  0.5  0.7  0.9]\n",
      " [-0.9 -0.7 -0.5 -0.3 -0.1  0.1  0.3  0.5  0.7  0.9]\n",
      " [-0.9 -0.7 -0.5 -0.3 -0.1  0.1  0.3  0.5  0.7  0.9]]\n"
     ]
    }
   ],
   "source": [
    "X, Y = grid.c_centers\n",
    "print(Y)"
   ]
  },
  {
   "cell_type": "markdown",
   "metadata": {},
   "source": [
    "We can plot the grid, optionally marking the locations of nodes and centers:"
   ]
  },
  {
   "cell_type": "code",
   "execution_count": 49,
   "metadata": {},
   "outputs": [
    {
     "data": {
      "image/png": "[encoded data removed]",
      "text/plain": [
       "<Figure size 640x480 with 1 Axes>"
      ]
     },
     "metadata": {},
     "output_type": "display_data"
    }
   ],
   "source": [
    "grid.plot(mark_nodes=True,mark_centers=True);"
   ]
  },
  {
   "cell_type": "markdown",
   "metadata": {},
   "source": [
    "The plot above is simply drawing all the lines between adjacent nodes of the grid."
   ]
  },
  {
   "cell_type": "markdown",
   "metadata": {},
   "source": [
    "In numerical PDEs, we often use *ghost cells* around the edge of the grid to implement boundary conditions.  The `grid.plot` function knows about those too:"
   ]
  },
  {
   "cell_type": "code",
   "execution_count": 50,
   "metadata": {},
   "outputs": [
    {
     "data": {
      "image/png": "[encoded data removed]",
      "text/plain": [
       "<Figure size 640x480 with 1 Axes>"
      ]
     },
     "metadata": {},
     "output_type": "display_data"
    }
   ],
   "source": [
    "grid.plot(num_ghost=2);"
   ]
  },
  {
   "cell_type": "markdown",
   "metadata": {},
   "source": [
    "# Mappings"
   ]
  },
  {
   "cell_type": "markdown",
   "metadata": {},
   "source": [
    "PyClaw grids need not be rectangular.  We can define a grid over any region that results from a mapping of a rectangle.  For instance, here is a mapping that takes a square to a circle (from [the SIAM Review paper of Calhoun, Helzel, & LeVeque](http://faculty.washington.edu/rjl/pubs/circles/)):"
   ]
  },
  {
   "cell_type": "code",
   "execution_count": 51,
   "metadata": {},
   "outputs": [],
   "source": [
    "def square2circle(xc,yc,r1=1.0):\n",
    "    d = np.maximum(np.abs(xc),np.abs(yc))\n",
    "    r = np.sqrt(xc**2 + yc**2)\n",
    "    r = np.maximum(r, 1.e-10)\n",
    "    xp = r1 * d * xc/r\n",
    "    yp = r1 * d * yc/r\n",
    "    return [xp, yp]"
   ]
  },
  {
   "cell_type": "markdown",
   "metadata": {},
   "source": [
    "The `grid.mapc2p` function is the identity mapping by default.  Let's create a new grid and associate with it the circle mapping."
   ]
  },
  {
   "cell_type": "code",
   "execution_count": 52,
   "metadata": {},
   "outputs": [
    {
     "data": {
      "image/png": "[encoded data removed]",
      "text/plain": [
       "<Figure size 640x480 with 1 Axes>"
      ]
     },
     "metadata": {},
     "output_type": "display_data"
    }
   ],
   "source": [
    "x.upper = 1.0\n",
    "\n",
    "grid.mapc2p = square2circle\n",
    "grid.plot(num_ghost=1);"
   ]
  }
 ],
 "metadata": {
  "kernelspec": {
   "display_name": "Python 3",
   "language": "python",
   "name": "python3"
  },
  "language_info": {
   "codemirror_mode": {
    "name": "ipython",
    "version": 3
   },
   "file_extension": ".py",
   "mimetype": "text/x-python",
   "name": "python",
   "nbconvert_exporter": "python",
   "pygments_lexer": "ipython3",
   "version": "3.11.8"
  },
  "toc": {
   "nav_menu": {},
   "number_sections": true,
   "sideBar": true,
   "skip_h1_title": false,
   "toc_cell": false,
   "toc_position": {},
   "toc_section_display": "block",
   "toc_window_display": false
  }
 },
 "nbformat": 4,
 "nbformat_minor": 1
}
