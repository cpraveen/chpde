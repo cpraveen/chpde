{
 "cells": [
  {
   "attachments": {},
   "cell_type": "markdown",
   "metadata": {},
   "source": [
    "# Section 3.5\n",
    "\n",
    "PyClaw is a solver for hyperbolic PDEs, based on [Clawpack](www.clawpack.org).  You can read more about PyClaw in [this paper](http://epubs.siam.org/doi/abs/10.1137/110856976) (free version [here](http://arxiv.org/abs/1111.6583).  \n",
    "\n",
    "In this notebook, we explore some basic PyClaw functionality.  Before running the notebook, you should [install Clawpack](http://clawpack.github.io/doc/installing.html).  The quick way is to just\n",
    "\n",
    "    pip install clawpack"
   ]
  },
  {
   "cell_type": "code",
   "execution_count": null,
   "metadata": {},
   "outputs": [],
   "source": [
    "%matplotlib inline\n",
    "from clawpack import pyclaw\n",
    "from clawpack import riemann\n",
    "import numpy as np\n",
    "import matplotlib.pyplot as plt"
   ]
  },
  {
   "cell_type": "markdown",
   "metadata": {},
   "source": [
    "## Setting up a problem\n",
    "To solve a problem, we'll need to create the following:\n",
    "\n",
    "- A controller, which handles the running, output, and can be used for plotting (you don't absolutely need a controller, but it makes life simpler)\n",
    "- A solver, which is responsible for actually evolving the solution in time.  Here we'll need to specify the equations to be solved and the boundary conditions.\n",
    "- A domain over which to solve the problem\n",
    "- A solution, where we will provide the initial data.  After running, the solution will contain -- you guessed it! -- the solution."
   ]
  },
  {
   "cell_type": "markdown",
   "metadata": {},
   "source": [
    "Let's start by creating a controller and specifying the simulation end time:"
   ]
  },
  {
   "cell_type": "code",
   "execution_count": null,
   "metadata": {},
   "outputs": [],
   "source": [
    "claw = pyclaw.Controller()\n",
    "claw.tfinal = 3.0\n",
    "\n",
    "claw.keep_copy = True       # Keep solution data in memory for plotting\n",
    "claw.output_format = None   # Don't write solution data to file\n",
    "claw.num_output_times = 30  # Write 50 output frames"
   ]
  },
  {
   "cell_type": "markdown",
   "metadata": {},
   "source": [
    "## Riemann solvers\n",
    "\n",
    "Like many solvers for nonlinear hyperbolic PDEs, PyClaw uses Riemann solvers.  By specifying a Riemann solver, we will specify the system of PDEs that we want to solve.\n",
    "\n",
    "Place your cursor at the end of the line in the box below and hit '.' (period), then 'Tab' (for autocompletion).  You'll see a dropdown list of all the Riemann solvers currently available in PyClaw.  The ones with 'py' at the end of the name are written in pure Python; the others are Fortran, wrapped with f2py.\n",
    "\n",
    "Note that this won't work if you're viewing the notebook online as HTML; you need to actually be running it."
   ]
  },
  {
   "cell_type": "code",
   "execution_count": null,
   "metadata": {},
   "outputs": [],
   "source": [
    "riemann"
   ]
  },
  {
   "cell_type": "markdown",
   "metadata": {},
   "source": [
    "We'll solve the one-dimensional acoustics equations:\n",
    "$$\\begin{align}\n",
    "p_t + K u_x & = 0 \\\\\n",
    "u_t + \\frac{1}{\\rho} p_x & = 0.\n",
    "\\end{align}$$\n",
    "Here $p, u$ are the pressure and velocity as functions of $x,t$, while $\\rho, K$ are constants representing the density and bulk modulus of the material transmitting the waves.  We'll specify these constants later.\n",
    "\n",
    "We can do this using the first solver in the list.  Notice that the solver we create here belongs to the controller that we created above."
   ]
  },
  {
   "cell_type": "code",
   "execution_count": null,
   "metadata": {},
   "outputs": [],
   "source": [
    "riemann_solver = riemann.acoustics_1D\n",
    "claw.solver = pyclaw.ClawSolver1D(riemann_solver)"
   ]
  },
  {
   "cell_type": "markdown",
   "metadata": {},
   "source": [
    "We also need to specify boundary conditions.  We'll use periodic BCs, so that waves that go off one side of the domain come back in at the other:"
   ]
  },
  {
   "cell_type": "code",
   "execution_count": null,
   "metadata": {},
   "outputs": [],
   "source": [
    "claw.solver.bc_lower[0] = pyclaw.BC.wall\n",
    "claw.solver.bc_upper[0] = pyclaw.BC.extrap\n",
    "claw.solver.limiters = pyclaw.limiters.tvd.MC"
   ]
  },
  {
   "cell_type": "markdown",
   "metadata": {},
   "source": [
    "## The problem domain\n",
    "Next we need to specify the domain and the grid.  We'll solve on the unit line $[0,1]$ using 100 grid cells.  Note that each argument to the Domain constructor must be a tuple:"
   ]
  },
  {
   "cell_type": "code",
   "execution_count": null,
   "metadata": {},
   "outputs": [],
   "source": [
    "domain = pyclaw.Domain( (-1.,), (1.,), (800,))"
   ]
  },
  {
   "cell_type": "markdown",
   "metadata": {},
   "source": [
    "## The initial solution\n",
    "Next we create a solution object that belongs to the controller and extends over the domain we specified:"
   ]
  },
  {
   "cell_type": "code",
   "execution_count": null,
   "metadata": {},
   "outputs": [],
   "source": [
    "claw.solution = pyclaw.Solution(claw.solver.num_eqn,domain)"
   ]
  },
  {
   "cell_type": "markdown",
   "metadata": {},
   "source": [
    "The initial data is specified in an array named $q$.  The pressure is contained in `q[0,:]` and the velocity in `q[1,:]`.  We'll specify a wavepacket for the pressure and zero velocity."
   ]
  },
  {
   "cell_type": "code",
   "execution_count": null,
   "metadata": {},
   "outputs": [],
   "source": [
    "x = domain.grid.x.centers\n",
    "claw.solution.q[0,:] = 0.5 * np.exp(-80 * x**2) + 0.5 * (np.abs(x + 0.2) < 0.1)\n",
    "claw.solution.q[1,:] = 0.0\n",
    "\n",
    "plt.plot(x, claw.solution.q[0,:],'-o');"
   ]
  },
  {
   "cell_type": "markdown",
   "metadata": {},
   "source": [
    "## Problem-specific parameters\n",
    "The Riemann solver we've chosen requires some physical parameters to be specified.  Press '.', then 'Tab' in the box below and you'll see what they are."
   ]
  },
  {
   "cell_type": "code",
   "execution_count": null,
   "metadata": {},
   "outputs": [],
   "source": [
    "riemann_solver.cparam"
   ]
  },
  {
   "cell_type": "markdown",
   "metadata": {},
   "source": [
    "Two of these parameters are $\\rho$ and $K$ in the equations above.  The other two are the impedance $Z = \\sqrt{\\rho K}$ and sound speed $c = \\sqrt{K/\\rho}$.  We specify these parameters in a dictionary that belongs to the solution object:"
   ]
  },
  {
   "cell_type": "code",
   "execution_count": null,
   "metadata": {},
   "outputs": [],
   "source": [
    "import numpy as np\n",
    "\n",
    "density = 1.0\n",
    "bulk_modulus = 0.25\n",
    "impedance = np.sqrt(density*bulk_modulus)\n",
    "sound_speed = np.sqrt(density/bulk_modulus)\n",
    "\n",
    "claw.solution.state.problem_data = {\n",
    "                              'rho' : density,\n",
    "                              'bulk': bulk_modulus,\n",
    "                              'zz'  : np.sqrt(density*bulk_modulus),\n",
    "                              'cc'  : np.sqrt(bulk_modulus/density)\n",
    "                              }"
   ]
  },
  {
   "cell_type": "markdown",
   "metadata": {},
   "source": [
    "Finally, let's run the simulation."
   ]
  },
  {
   "cell_type": "code",
   "execution_count": null,
   "metadata": {},
   "outputs": [],
   "source": [
    "claw.solver.dt_initial = 1.e99\n",
    "status = claw.run()"
   ]
  },
  {
   "cell_type": "markdown",
   "metadata": {},
   "source": [
    "## Plotting\n",
    "Now we'll plot the results, which are contained in `claw.frames[:]`.  It's simple to plot a single frame with matplotlib:"
   ]
  },
  {
   "cell_type": "code",
   "execution_count": null,
   "metadata": {},
   "outputs": [],
   "source": [
    "pressure = claw.frames[30].q[0,:]\n",
    "plt.plot(x,pressure,'-o');"
   ]
  },
  {
   "cell_type": "markdown",
   "metadata": {},
   "source": [
    "To examine the evolution more thoroughly, it's nice to see all the frames in sequence.  We can do this as follows."
   ]
  },
  {
   "cell_type": "code",
   "execution_count": null,
   "metadata": {},
   "outputs": [],
   "source": [
    "from clawpack.visclaw import ianimate\n",
    "ianimate.ianimate(claw)"
   ]
  },
  {
   "cell_type": "markdown",
   "metadata": {},
   "source": [
    "The simple `ianimate` function is convenient for simple plots.  If we want to do something more complicated, like overlaying two variables and adding a legend, we can do it this way: (the code below requires Matplotlib 2.1.0 or greater)"
   ]
  },
  {
   "cell_type": "code",
   "execution_count": null,
   "metadata": {},
   "outputs": [],
   "source": [
    "from matplotlib import animation\n",
    "import matplotlib.pyplot as plt\n",
    "from IPython.display import HTML\n",
    "import numpy as np\n",
    "\n",
    "fig, ax = plt.subplots(2,1,figsize=(8,5))\n",
    "\n",
    "frame = claw.frames[0]\n",
    "pressure = frame.q[0,:]\n",
    "velocity = frame.q[1,:]\n",
    "line1, = ax[0].plot(x, pressure, lw=2, label='p')\n",
    "line2, = ax[1].plot(x, velocity, lw=2, label='u')\n",
    "ax[0].legend(); ax[1].legend()\n",
    "ax[1].set_ylim(-1,1)\n",
    "\n",
    "def fplot(frame_number):\n",
    "    frame = claw.frames[frame_number]\n",
    "    pressure = frame.q[0,:]\n",
    "    velocity = frame.q[1,:]\n",
    "    line1.set_data(x,pressure)\n",
    "    line2.set_data(x,velocity)\n",
    "    t = \"{:.2f}\".format(frame.state.t)\n",
    "    ax[0].set_title('t = '+t)\n",
    "    return line1,line2\n",
    "\n",
    "anim = animation.FuncAnimation(fig, fplot, frames=len(claw.frames), interval=30, repeat=False)\n",
    "plt.close()\n",
    "HTML(anim.to_jshtml())"
   ]
  },
  {
   "cell_type": "markdown",
   "metadata": {},
   "source": [
    "That's it!  Here are some things you might try for fun:\n",
    "\n",
    "- Change the boundary conditions to reflecting or outflow (hint: type `pyclaw.BC.`+[Tab] to get a list of boundary conditions available).\n",
    "- Change the grid to use a larger or smaller number of grid cells.  How does this affect the final solution?\n",
    "- Use higher-order methods by instantiating a `SharpClawSolver1D` instead of a `ClawSolver1D`.  How does this affect the final solution?  You can read more about the methods in SharpClaw in [this paper](http://epubs.siam.org/doi/abs/10.1137/110830320)."
   ]
  }
 ],
 "metadata": {
  "kernelspec": {
   "display_name": "base",
   "language": "python",
   "name": "python3"
  },
  "language_info": {
   "codemirror_mode": {
    "name": "ipython",
    "version": 3
   },
   "file_extension": ".py",
   "mimetype": "text/x-python",
   "name": "python",
   "nbconvert_exporter": "python",
   "pygments_lexer": "ipython3",
   "version": "3.10.8"
  },
  "toc": {
   "nav_menu": {},
   "number_sections": true,
   "sideBar": true,
   "skip_h1_title": false,
   "toc_cell": false,
   "toc_position": {},
   "toc_section_display": "block",
   "toc_window_display": false
  }
 },
 "nbformat": 4,
 "nbformat_minor": 1
}
